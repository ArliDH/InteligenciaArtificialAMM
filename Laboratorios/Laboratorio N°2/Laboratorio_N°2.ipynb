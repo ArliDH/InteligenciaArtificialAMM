{
  "nbformat": 4,
  "nbformat_minor": 0,
  "metadata": {
    "colab": {
      "provenance": []
    },
    "kernelspec": {
      "name": "python3",
      "display_name": "Python 3"
    },
    "language_info": {
      "name": "python"
    }
  },
  "cells": [
    {
      "cell_type": "code",
      "execution_count": null,
      "metadata": {
        "id": "FmRocpMwyyuj"
      },
      "outputs": [],
      "source": [
        "import pandas as pd\n",
        "import numpy as np\n",
        "import matplotlib.pyplot as plt\n",
        "from sklearn.preprocessing import LabelEncoder"
      ]
    },
    {
      "cell_type": "code",
      "source": [
        "df = pd.read_csv(\"/content/vehicles.csv\", engine=\"python\", on_bad_lines=\"skip\")\n",
        "print(df.shape)\n",
        "df1_reduced = df.sample(n=5)\n",
        "print(df1_reduced)"
      ],
      "metadata": {
        "id": "Y1vqhRc9zP0A",
        "colab": {
          "base_uri": "https://localhost:8080/"
        },
        "outputId": "685dee68-4335-459f-eead-269703786ac9"
      },
      "execution_count": null,
      "outputs": [
        {
          "output_type": "stream",
          "name": "stdout",
          "text": [
            "(426880, 26)\n",
            "                id                                                url  \\\n",
            "183510  7304731655  https://baltimore.craigslist.org/ctd/d/gwynn-o...   \n",
            "4897    7309841423  https://tuscaloosa.craigslist.org/ctd/d/tuscal...   \n",
            "424417  7309785253  https://milwaukee.craigslist.org/ctd/d/eau-cla...   \n",
            "337192  7310598797  https://pittsburgh.craigslist.org/ctd/d/north-...   \n",
            "95787   7308871669  https://fortmyers.craigslist.org/lee/ctd/d/for...   \n",
            "\n",
            "                       region                         region_url  price  \\\n",
            "183510              baltimore   https://baltimore.craigslist.org   4250   \n",
            "4897               tuscaloosa  https://tuscaloosa.craigslist.org  19990   \n",
            "424417              milwaukee   https://milwaukee.craigslist.org  11950   \n",
            "337192             pittsburgh  https://pittsburgh.craigslist.org   4295   \n",
            "95787   ft myers / SW florida   https://fortmyers.craigslist.org  41590   \n",
            "\n",
            "          year manufacturer                        model condition  \\\n",
            "183510  2003.0       toyota                   highlander       NaN   \n",
            "4897    2015.0     infiniti       qx60 3.5 sport utility      good   \n",
            "424417  2011.0          bmw  x5 xdrive35i awd luxury suv       NaN   \n",
            "337192  2008.0    chevrolet                       cobalt  like new   \n",
            "95787   2019.0        acura      mdx sh-awd w/technology      good   \n",
            "\n",
            "          cylinders  ... size   type paint_color  \\\n",
            "183510          NaN  ...  NaN    NaN         NaN   \n",
            "4897            NaN  ...  NaN  other      silver   \n",
            "424417          NaN  ...  NaN    NaN         NaN   \n",
            "337192  4 cylinders  ...  NaN  coupe         red   \n",
            "95787   6 cylinders  ...  NaN  other      silver   \n",
            "\n",
            "                                                image_url  \\\n",
            "183510  https://images.craigslist.org/00h0h_6SzinWpNj9...   \n",
            "4897    https://images.craigslist.org/00G0G_bKKk9z0UP0...   \n",
            "424417  https://images.craigslist.org/00g0g_4YQnEwcahY...   \n",
            "337192  https://images.craigslist.org/00z0z_5eKeufjQky...   \n",
            "95787   https://images.craigslist.org/00N0N_1xMPvfxRAI...   \n",
            "\n",
            "                                              description county state  \\\n",
            "183510  2003 TOYOTA HIGHLANDER CLEAN 4DR 4WD AUTO V6 S...    NaN    md   \n",
            "4897    Carvana is the safer way to buy a car During t...    NaN    al   \n",
            "424417  2011 BMW X5 xDrive35i AWD Luxury SUV ✔  We TAK...    NaN    wi   \n",
            "337192  2008 Chevy Cobalt  4 Cylinder  Automatic  Air ...    NaN    pa   \n",
            "95787   Carvana is the safer way to buy a car During t...    NaN    fl   \n",
            "\n",
            "            lat     long              posting_date  \n",
            "183510  39.3296 -76.7341  2021-04-10T12:42:36-0400  \n",
            "4897    33.2300 -87.5400  2021-04-20T11:00:50-0500  \n",
            "424417  44.8346 -91.5159  2021-04-20T09:34:46-0500  \n",
            "337192  40.6001 -79.5539  2021-04-21T18:38:57-0400  \n",
            "95787   26.6300 -81.8500  2021-04-18T15:00:47-0400  \n",
            "\n",
            "[5 rows x 26 columns]\n"
          ]
        }
      ]
    },
    {
      "cell_type": "code",
      "source": [
        "df_reduced = df.sample(n=10100, random_state=42)\n",
        "\n",
        "# Crear codificador\n",
        "le = LabelEncoder()\n",
        "\n",
        "# Ajustar y transformar manufacturer\n",
        "df_reduced['manufacturer_encoded'] = le.fit_transform(df_reduced['manufacturer'].astype(str))\n",
        "\n",
        "# Ahora puedes usar esta columna en tu regresión\n",
        "# Construir matriz X con solo valores numéricos\n",
        "# Mantener solo las filas donde no haya NaN ni en X ni en y\n",
        "df_clean = df_reduced[['year', 'manufacturer_encoded', 'price']].dropna()\n",
        "\n",
        "# Separar X e y\n",
        "x = df_clean[['year', 'manufacturer_encoded']].values\n",
        "y = df_clean['price'].values\n",
        "\n",
        "m = y.size\n",
        "\n",
        "print(m)"
      ],
      "metadata": {
        "colab": {
          "base_uri": "https://localhost:8080/"
        },
        "id": "3-lmsTTV2E1c",
        "outputId": "11584aea-7dd7-4ada-ec66-a9b2a9764968"
      },
      "execution_count": null,
      "outputs": [
        {
          "output_type": "stream",
          "name": "stdout",
          "text": [
            "10073\n"
          ]
        }
      ]
    },
    {
      "cell_type": "code",
      "source": [
        "def  featureNormalize(X):\n",
        "\n",
        "    X_norm = X.copy().astype(float)\n",
        "    mu = np.zeros(X.shape[1])\n",
        "    sigma = np.zeros(X.shape[1])\n",
        "\n",
        "    mu = np.mean(X, axis = 0)\n",
        "    sigma = np.std(X, axis = 0)\n",
        "    X_norm = (X - mu) / sigma\n",
        "\n",
        "    return X_norm, mu, sigma"
      ],
      "metadata": {
        "id": "Ls42SxrT82Wv"
      },
      "execution_count": null,
      "outputs": []
    },
    {
      "cell_type": "code",
      "source": [
        "# llama featureNormalize con los datos cargados\n",
        "X_norm, mu, sigma = featureNormalize(x)\n",
        "\n",
        "print('Media calculada:', mu)\n",
        "print('Desviación estandar calculada:', sigma)"
      ],
      "metadata": {
        "colab": {
          "base_uri": "https://localhost:8080/"
        },
        "id": "Kv6skuqP9b7B",
        "outputId": "dcb8ea86-697e-4337-d932-e849237975ad"
      },
      "execution_count": null,
      "outputs": [
        {
          "output_type": "stream",
          "name": "stdout",
          "text": [
            "Media calculada: [2011.33833019   18.0433833 ]\n",
            "Desviación estandar calculada: [ 9.19473394 11.07974954]\n"
          ]
        }
      ]
    },
    {
      "cell_type": "code",
      "source": [
        "# Añade el termino de interseccion a X\n",
        "# (Columna de unos para X0)\n",
        "X = np.concatenate([np.ones((m, 1)), X_norm], axis=1)"
      ],
      "metadata": {
        "id": "4syw9B5aIupe"
      },
      "execution_count": null,
      "outputs": []
    },
    {
      "cell_type": "code",
      "source": [
        "def computeCostMulti(X, y, theta):\n",
        "    # Inicializa algunos valores utiles\n",
        "    m = y.shape[0] # numero de ejemplos de entrenamiento\n",
        "\n",
        "    J = 0\n",
        "\n",
        "    # h = np.dot(X, theta)\n",
        "\n",
        "    J = (1/(2 * m)) * np.sum(np.square(np.dot(X, theta) - y))\n",
        "\n",
        "    return J\n"
      ],
      "metadata": {
        "id": "eHGW0V9_9qqL"
      },
      "execution_count": null,
      "outputs": []
    },
    {
      "cell_type": "code",
      "source": [
        "def gradientDescentMulti(X, y, theta, alpha, num_iters):\n",
        "\n",
        "    # Inicializa algunos valores\n",
        "    m = y.shape[0] # numero de ejemplos de entrenamiento\n",
        "\n",
        "    # realiza una copia de theta, el cual será acutalizada por el descenso por el gradiente\n",
        "\n",
        "    theta = theta.copy()\n",
        "\n",
        "    J_history = []\n",
        "\n",
        "    for i in range(num_iters):\n",
        "        theta = theta - (alpha / m) * (np.dot(X, theta) - y).dot(X)\n",
        "        J_history.append(computeCostMulti(X, y, theta))\n",
        "\n",
        "    return theta, J_history\n"
      ],
      "metadata": {
        "id": "3i_GQZ0j9rg3"
      },
      "execution_count": null,
      "outputs": []
    },
    {
      "cell_type": "code",
      "source": [
        "# Elegir algun valor para alpha (probar varias alternativas)\n",
        "alpha = 0.001 # alpha = 0.003\n",
        "num_iters = 10000\n",
        "\n",
        "# inicializa theta y ejecuta el descenso por el gradiente\n",
        "theta = np.zeros(3)\n",
        "theta, J_history = gradientDescentMulti(X, y, theta, alpha, num_iters)\n",
        "\n",
        "# Grafica la convergencia del costo\n",
        "plt.plot(np.arange(len(J_history)), J_history, lw=2)\n",
        "plt.xlabel('Numero de iteraciones')\n",
        "plt.ylabel('Costo J')\n",
        "\n",
        "# Muestra los resultados del descenso por el gradiente\n",
        "print('theta calculado por el descenso por el gradiente: {:s}'.format(str(theta)))"
      ],
      "metadata": {
        "colab": {
          "base_uri": "https://localhost:8080/",
          "height": 482
        },
        "id": "aIxGkMSs9uz0",
        "outputId": "99bca02b-4a79-4012-d1f7-f892f38974e5"
      },
      "execution_count": null,
      "outputs": [
        {
          "output_type": "stream",
          "name": "stdout",
          "text": [
            "theta calculado por el descenso por el gradiente: [17869.91028169  3730.01328824  -342.86839398]\n"
          ]
        },
        {
          "output_type": "display_data",
          "data": {
            "text/plain": [
              "<Figure size 640x480 with 1 Axes>"
            ],
            "image/png": "[encoded data removed]"
          },
          "metadata": {}
        }
      ]
    },
    {
      "cell_type": "code",
      "source": [
        "# Datos nuevos\n",
        "year = 1980\n",
        "manufacturer = \"toyota\"\n",
        "\n",
        "# 1. Convertir la marca a su código\n",
        "manufacturer_encoded = le.transform([manufacturer])[0]\n",
        "\n",
        "# 2. Crear vector de entrada\n",
        "x_new = np.array([year, manufacturer_encoded])\n",
        "\n",
        "# 3. Normalizar usando mu y sigma de entrenamiento\n",
        "x_new_norm = (x_new - mu) / sigma\n",
        "\n",
        "# 4. Agregar 1 para el término de intersección (bias)\n",
        "x_new_final = np.concatenate(([1], x_new_norm))\n",
        "\n",
        "# 5. Calcular predicción\n",
        "y_pred = np.dot(x_new_final, theta)\n",
        "print(f\"Precio estimado para {year} {manufacturer}: {y_pred}\")\n"
      ],
      "metadata": {
        "colab": {
          "base_uri": "https://localhost:8080/"
        },
        "id": "CCP04PELMkWI",
        "outputId": "c06c7b8a-8db7-4da6-ab1e-203da53cbe72"
      },
      "execution_count": null,
      "outputs": [
        {
          "output_type": "stream",
          "name": "stdout",
          "text": [
            "Precio estimado para 1980 toyota: 4570.317061281923\n"
          ]
        }
      ]
    },
    {
      "cell_type": "code",
      "source": [
        "# Datos nuevos\n",
        "year = 1980\n",
        "manufacturer = \"infiniti\"\n",
        "\n",
        "# 1. Convertir la marca a su código\n",
        "manufacturer_encoded = le.transform([manufacturer])[0]\n",
        "\n",
        "# 2. Crear vector de entrada\n",
        "x_new = np.array([year, manufacturer_encoded])\n",
        "\n",
        "# 3. Normalizar usando mu y sigma de entrenamiento\n",
        "x_new_norm = (x_new - mu) / sigma\n",
        "\n",
        "# 4. Agregar 1 para el término de intersección (bias)\n",
        "x_new_final = np.concatenate(([1], x_new_norm))\n",
        "\n",
        "# 5. Calcular predicción\n",
        "y_pred = np.dot(x_new_final, theta)\n",
        "print(f\"Precio estimado para {year} {manufacturer}: {y_pred}\")"
      ],
      "metadata": {
        "colab": {
          "base_uri": "https://localhost:8080/"
        },
        "id": "556oJnlqPvWJ",
        "outputId": "e593fff9-d5d2-4eec-cd88-3a4122d6710e"
      },
      "execution_count": null,
      "outputs": [
        {
          "output_type": "stream",
          "name": "stdout",
          "text": [
            "Precio estimado para 1980 infiniti: 5220.1725697838\n"
          ]
        }
      ]
    },
    {
      "cell_type": "markdown",
      "source": [
        "Ecuacion de la Normal"
      ],
      "metadata": {
        "id": "4udaI2ZnRhI4"
      }
    },
    {
      "cell_type": "code",
      "source": [
        "def normalEqn(X, y):\n",
        "\n",
        "    theta = np.zeros(X.shape[1])\n",
        "\n",
        "    theta = np.dot(np.dot(np.linalg.inv(np.dot(X.T,X)),X.T),y)\n",
        "\n",
        "    return theta"
      ],
      "metadata": {
        "id": "8H3sAdk5Rk0q"
      },
      "execution_count": null,
      "outputs": []
    },
    {
      "cell_type": "code",
      "source": [
        "# Calcula los parametros con la ecuación de la normal\n",
        "theta = normalEqn(X, y);\n",
        "\n",
        "# Muestra los resultados optenidos a partir de la aplicación de la ecuación de la normal\n",
        "print('Theta calculado a partir de la ecuación de la normal: {:s}'.format(str(theta)));\n",
        "\n",
        "# Estimar el precio para una casa de superficie de 1650 sq-ft y tres dormitorios\n",
        "\n",
        "# Datos nuevos\n",
        "year = 1980\n",
        "manufacturer = \"chevrolet\"\n",
        "\n",
        "# 1. Convertir la marca a su código\n",
        "manufacturer_encoded = le.transform([manufacturer])[0]\n",
        "\n",
        "# 2. Crear vector de entrada\n",
        "x_new = np.array([year, manufacturer_encoded])\n",
        "\n",
        "# 3. Normalizar usando mu y sigma de entrenamiento\n",
        "x_new_norm = (x_new - mu) / sigma\n",
        "\n",
        "# 4. Agregar 1 para el término de intersección (bias)\n",
        "x_new_final = np.concatenate(([1], x_new_norm))\n",
        "\n",
        "# 5. Calcular predicción\n",
        "y_pred = np.dot(x_new_final, theta)\n",
        "print(f\"Precio estimado para {year} {manufacturer}: {y_pred}\")"
      ],
      "metadata": {
        "colab": {
          "base_uri": "https://localhost:8080/"
        },
        "id": "LisADBkVRteJ",
        "outputId": "3188f080-2364-4df3-fc13-c9b6d5cda66e"
      },
      "execution_count": null,
      "outputs": [
        {
          "output_type": "stream",
          "name": "stdout",
          "text": [
            "Theta calculado a partir de la ecuación de la normal: [17870.7175618   3730.18317471  -342.89499226]\n",
            "Precio estimado para 1980 chevrolet: 5498.936841974791\n"
          ]
        }
      ]
    },
    {
      "cell_type": "markdown",
      "source": [
        "Regracion Polinomica"
      ],
      "metadata": {
        "id": "pODiR_XxfXvA"
      }
    },
    {
      "cell_type": "code",
      "source": [
        "df_reduced = df.sample(n=10100, random_state=42)\n",
        "\n",
        "# Crear codificadores separados\n",
        "le_manufacturer = LabelEncoder()\n",
        "le_paint = LabelEncoder()\n",
        "\n",
        "# Codificar manufacturer\n",
        "df_reduced['manufacturer_encoded'] = le_manufacturer.fit_transform(df_reduced['manufacturer'].astype(str))\n",
        "\n",
        "# Codificar paint_color\n",
        "df_reduced['paint_color_encoded'] = le_paint.fit_transform(df_reduced['paint_color'].astype(str))\n",
        "\n",
        "# Mantener solo filas sin NaN\n",
        "df_clean = df_reduced[['year', 'manufacturer_encoded', 'paint_color_encoded', 'price']].dropna()\n",
        "\n",
        "# Separar X e y\n",
        "x = df_clean[['year', 'manufacturer_encoded', 'paint_color_encoded']].values\n",
        "y = df_clean['price'].values\n",
        "\n",
        "m = y.size\n",
        "print(m)"
      ],
      "metadata": {
        "id": "psSYYRBVfb_5"
      },
      "execution_count": null,
      "outputs": []
    },
    {
      "cell_type": "code",
      "source": [
        "def plotData(x, y):\n",
        "    #Grafica los puntos x e y en una figura nueva.\n",
        "\n",
        "    fig = plt.figure()  # abre una nueva figura\n",
        "\n",
        "    plt.plot(x, y, 'ro', ms=10, mec='k')\n",
        "    plt.ylabel('Precio')\n",
        "    plt.xlabel('descripciones')"
      ],
      "metadata": {
        "id": "vBXO9n2BfpE8"
      },
      "execution_count": null,
      "outputs": []
    },
    {
      "cell_type": "code",
      "source": [
        "plotData(x, y)"
      ],
      "metadata": {
        "id": "q4n4SeH1fsXW"
      },
      "execution_count": null,
      "outputs": []
    },
    {
      "cell_type": "code",
      "source": [
        "X = np.concatenate([x, x * x], axis=1)"
      ],
      "metadata": {
        "id": "SEfKgCFyfvo7"
      },
      "execution_count": null,
      "outputs": []
    },
    {
      "cell_type": "code",
      "source": [
        "def  featureNormalize(X):\n",
        "    X_norm = X.copy().astype(float)\n",
        "    mu = np.zeros(X.shape[1])\n",
        "    sigma = np.zeros(X.shape[1])\n",
        "\n",
        "    mu = np.mean(X, axis = 0)\n",
        "    sigma = np.std(X, axis = 0)\n",
        "    X_norm = (X - mu) / sigma\n",
        "\n",
        "    return X_norm, mu, sigma"
      ],
      "metadata": {
        "id": "fF2bK7d_fyuC"
      },
      "execution_count": null,
      "outputs": []
    },
    {
      "cell_type": "code",
      "source": [
        "# llama featureNormalize con los datos cargados\n",
        "X_norm, mu, sigma = featureNormalize(X)\n",
        "\n",
        "#print(X)\n",
        "print('Media calculada:', mu)\n",
        "print('Desviación estandar calculada:', sigma)\n",
        "#print(X_norm)"
      ],
      "metadata": {
        "id": "EBCs8oidf3Ic"
      },
      "execution_count": null,
      "outputs": []
    },
    {
      "cell_type": "code",
      "source": [
        "plotData(X_norm[:,1], y)"
      ],
      "metadata": {
        "id": "gMyFAKFDf4LE"
      },
      "execution_count": null,
      "outputs": []
    },
    {
      "cell_type": "code",
      "source": [
        "# Añade el termino de interseccion a X\n",
        "# (Columna de unos para X0)\n",
        "#X_norm = np.concatenate([X_norm, X_norm * X_norm], axis=1)\n",
        "X = np.concatenate([np.ones((m, 1)), X_norm], axis=1)"
      ],
      "metadata": {
        "id": "A_lnBI9Xf6cd"
      },
      "execution_count": null,
      "outputs": []
    },
    {
      "cell_type": "code",
      "source": [
        "def computeCostMulti(X, y, theta):\n",
        "    # Inicializa algunos valores utiles\n",
        "    m = y.shape[0] # numero de ejemplos de entrenamiento\n",
        "\n",
        "    J = 0\n",
        "\n",
        "    h = np.dot(X, theta)\n",
        "\n",
        "    J = (1/(2 * m)) * np.sum(np.square(np.dot(X, theta) - y))\n",
        "\n",
        "    return J"
      ],
      "metadata": {
        "id": "lAQ9QDbdf-J0"
      },
      "execution_count": null,
      "outputs": []
    },
    {
      "cell_type": "code",
      "source": [
        "def gradientDescentMulti(X, y, theta, alpha, num_iters):\n",
        "\n",
        "    # Inicializa algunos valores\n",
        "    m = y.shape[0] # numero de ejemplos de entrenamiento\n",
        "\n",
        "    # realiza una copia de theta, el cual será acutalizada por el descenso por el gradiente\n",
        "    theta = theta.copy()\n",
        "\n",
        "    J_history = []\n",
        "\n",
        "    for i in range(num_iters):\n",
        "        theta = theta - (alpha / m) * (np.dot(X, theta) - y).dot(X)\n",
        "        J_history.append(computeCostMulti(X, y, theta))\n",
        "\n",
        "    return theta, J_history"
      ],
      "metadata": {
        "id": "VByUF8PEgCaM"
      },
      "execution_count": null,
      "outputs": []
    },
    {
      "cell_type": "code",
      "source": [
        "# Elegir algun valor para alpha (probar varias alternativas)\n",
        "alpha = 0.001\n",
        "num_iters = 2000\n",
        "\n",
        "# inicializa theta y ejecuta el descenso por el gradiente\n",
        "theta = np.zeros(X.shape[1])\n",
        "\n",
        "theta, J_history = gradientDescentMulti(X, y, theta, alpha, num_iters)\n",
        "\n",
        "# Grafica la convergencia del costo\n",
        "plt.plot(np.arange(len(J_history)), J_history, lw=2)\n",
        "plt.xlabel('Numero de iteraciones')\n",
        "plt.ylabel('Costo J')\n",
        "\n",
        "# Muestra los resultados del descenso por el gradiente\n",
        "print('theta calculado por el descenso por el gradiente: {:s}'.format(str(theta)))"
      ],
      "metadata": {
        "id": "5sOSVPFVgFqy"
      },
      "execution_count": null,
      "outputs": []
    },
    {
      "cell_type": "code",
      "source": [
        "# Datos nuevos\n",
        "year = 2005\n",
        "manufacturer = \"chevrolet\"\n",
        "paint_color = \"orange\"\n",
        "\n",
        "# Codificar variables categóricas\n",
        "manufacturer_encoded = le_manufacturer.transform([manufacturer])[0]\n",
        "paint_color_encoded = le_paint.transform([paint_color])[0]\n",
        "\n",
        "# Vector de entrada (solo features)\n",
        "x_new = np.array([year, manufacturer_encoded, paint_color_encoded])\n",
        "\n",
        "\n",
        "# Crear los términos polinómicos (cuadrados de cada feature)\n",
        "x_new_poly = np.concatenate([x_new, x_new**2])\n",
        "\n",
        "# Normalizar usando mu y sigma de entrenamiento\n",
        "x_new_norm = (x_new_poly - mu) / sigma\n",
        "\n",
        "# Agregar columna de unos para el intercepto\n",
        "x_new_final = np.concatenate(([1], x_new_norm))\n",
        "\n",
        "# Calcular predicción\n",
        "y_pred = np.dot(x_new_final, theta)\n",
        "\n",
        "print(f\"Precio estimado: {y_pred}\")"
      ],
      "metadata": {
        "id": "WNqpKBFrgGym"
      },
      "execution_count": null,
      "outputs": []
    },
    {
      "cell_type": "code",
      "source": [
        "# Datos nuevos\n",
        "year = 2010\n",
        "manufacturer = \"toyota\"\n",
        "paint_color = \"black\"\n",
        "\n",
        "# Codificar variables categóricas\n",
        "manufacturer_encoded = le_manufacturer.transform([manufacturer])[0]\n",
        "paint_color_encoded = le_paint.transform([paint_color])[0]\n",
        "\n",
        "# Vector de entrada (solo features)\n",
        "x_new = np.array([year, manufacturer_encoded, paint_color_encoded])\n",
        "\n",
        "\n",
        "# Crear los términos polinómicos (cuadrados de cada feature)\n",
        "x_new_poly = np.concatenate([x_new, x_new**2])\n",
        "\n",
        "# Normalizar usando mu y sigma de entrenamiento\n",
        "x_new_norm = (x_new_poly - mu) / sigma\n",
        "\n",
        "# Agregar columna de unos para el intercepto\n",
        "x_new_final = np.concatenate(([1], x_new_norm))\n",
        "\n",
        "# Calcular predicción\n",
        "y_pred = np.dot(x_new_final, theta)\n",
        "\n",
        "print(f\"Precio estimado: {y_pred}\")"
      ],
      "metadata": {
        "id": "wtEFuktqgLJW"
      },
      "execution_count": null,
      "outputs": []
    }
  ]
}