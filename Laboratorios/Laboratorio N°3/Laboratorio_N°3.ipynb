{
  "nbformat": 4,
  "nbformat_minor": 0,
  "metadata": {
    "colab": {
      "provenance": []
    },
    "kernelspec": {
      "name": "python3",
      "display_name": "Python 3"
    },
    "language_info": {
      "name": "python"
    }
  },
  "cells": [
    {
      "cell_type": "code",
      "execution_count": null,
      "metadata": {
        "id": "rLBzaBOuZXXS"
      },
      "outputs": [],
      "source": [
        "# se utiliza para el manejo de rutas y directorios.\n",
        "import os\n",
        "\n",
        "# Calculo cientifico y vectorial para python\n",
        "import numpy as np\n",
        "\n",
        "#libreria para el manejo de dataframes\n",
        "import pandas as pd\n",
        "\n",
        "# Libreria para dar valores a texto\n",
        "from sklearn.preprocessing import LabelEncoder\n",
        "\n",
        "# Librerias para graficar\n",
        "from matplotlib import pyplot\n",
        "\n",
        "# Modulo de optimización de scipy\n",
        "from scipy import optimize\n",
        "\n",
        "from sklearn.preprocessing import OneHotEncoder\n",
        "\n",
        "# le dice a matplotlib que incruste gráficos en el cuaderno\n",
        "%matplotlib inline"
      ]
    },
    {
      "cell_type": "code",
      "source": [
        "# Cargar datos\n",
        "datos = pd.read_excel('/content/elecciones 2025.xlsx')\n",
        "datos.columns = datos.columns.str.strip()\n",
        "\n",
        "# Limpiar espacios en columnas de texto\n",
        "text_columns = [\"NombrePais\", \"NombreDepartamento\", \"NombreProvincia\"]\n",
        "for col in text_columns:\n",
        "    datos[col] = datos[col].str.strip()\n",
        "\n",
        "# Lista de columnas de votos (partidos y votos especiales)\n",
        "votos_cols = [\n",
        "    \"AP\", \"LYP ADN\", \"APB SUMATE\", \"LIBRE\", \"FP\",\n",
        "    \"MAS-IPSP\", \"MORENA\", \"UNIDAD\", \"PDC\",\n",
        "    \"VotoBlanco\", \"VotoNuloDirecto\", \"VotoNuloDeclinacion\"\n",
        "]\n",
        "\n",
        "# ===============================\n",
        "# Construcción de X (features)\n",
        "# ===============================\n",
        "\n",
        "# Ejemplo: usamos inscritos + todos los votos de cada partido/nulos/blancos\n",
        "# Creamos un LabelEncoder por cada columna\n",
        "le_pais = LabelEncoder()\n",
        "le_depto = LabelEncoder()\n",
        "le_prov = LabelEncoder()\n",
        "\n",
        "datos[\"Pais\"] = le_pais.fit_transform(datos[\"NombrePais\"])\n",
        "datos[\"Departamento\"] = le_depto.fit_transform(datos[\"NombreDepartamento\"])\n",
        "datos[\"Provincia\"] = le_prov.fit_transform(datos[\"NombreProvincia\"])\n",
        "\n",
        "X = datos[[\"Pais\", \"Departamento\", \"Provincia\", \"InscritosHabilitados\"]].values\n",
        "\n",
        "# ===============================\n",
        "# Construcción de Y (target)\n",
        "# ===============================\n",
        "\n",
        "# Para cada fila, verificamos si AP tiene más votos que todos los demás\n",
        "datos[\"Ganador\"] = (datos[\"PDC\"] == datos[votos_cols].max(axis=1)).astype(int)\n",
        "\n",
        "Y = datos[\"Ganador\"].values\n",
        "\n",
        "# ===============================\n",
        "# Verificación\n",
        "# ===============================\n",
        "print(\"Shape de X:\", X.shape)\n",
        "\n",
        "print(\"Ejemplos de X (10 filas):\")\n",
        "print(X[:10])\n",
        "\n",
        "print(\"\\nEjemplos de Y (10 etiquetas):\")\n",
        "print(Y[:10])\n"
      ],
      "metadata": {
        "id": "C7qhXIF5C-t9",
        "outputId": "4c62dda7-ce37-43b5-c326-d2e73940f59b",
        "colab": {
          "base_uri": "https://localhost:8080/"
        }
      },
      "execution_count": null,
      "outputs": [
        {
          "output_type": "stream",
          "name": "stdout",
          "text": [
            "Shape de X: (69279, 4)\n",
            "Ejemplos de X (10 filas):\n",
            "[[  0   6  23 264]\n",
            " [  1   8  30 320]\n",
            " [  1   8  30 320]\n",
            " [  1   8  30 320]\n",
            " [  1   8  30 320]\n",
            " [  1   8  30 320]\n",
            " [  1   8  30 320]\n",
            " [  1   8  30 320]\n",
            " [  1   8  30 320]\n",
            " [  1   8  30 320]]\n",
            "\n",
            "Ejemplos de Y (10 etiquetas):\n",
            "[0 0 0 0 0 0 0 0 0 0]\n"
          ]
        }
      ]
    },
    {
      "cell_type": "code",
      "source": [
        "# Función de Normalización CORREGIDA (por características)\n",
        "def normalizar(X):\n",
        "    min_vals = np.min(X, axis=0)  # mínimo por columna\n",
        "    max_vals = np.max(X, axis=0)  # máximo por columna\n",
        "    # Evitar división por cero\n",
        "    range_vals = max_vals - min_vals\n",
        "    range_vals[range_vals == 0] = 1  # si max == min, range = 1\n",
        "    return (X - min_vals) / range_vals, min_vals, max_vals"
      ],
      "metadata": {
        "id": "KowZt9A6T61J"
      },
      "execution_count": null,
      "outputs": []
    },
    {
      "cell_type": "code",
      "source": [
        "# Funcion Sigmoide\n",
        "def sigmoid(z):\n",
        "    return 1 / (1 + np.exp(-z))"
      ],
      "metadata": {
        "id": "OBv80wcIT7ow"
      },
      "execution_count": null,
      "outputs": []
    },
    {
      "cell_type": "code",
      "source": [
        "# Normalizar X (guardando parámetros para predicción)\n",
        "X_normalized, X_min, X_max = normalizar(X)"
      ],
      "metadata": {
        "id": "yeZHRpz7kA7I"
      },
      "execution_count": null,
      "outputs": []
    },
    {
      "cell_type": "code",
      "source": [
        "# Configurar la matriz adecuadamente, y agregar una columna de unos que corresponde al término de intercepción\n",
        "m, n = X.shape\n",
        "X = np.concatenate([np.ones((m, 1)), X], axis=1)"
      ],
      "metadata": {
        "id": "sXXGNagvUB1p"
      },
      "execution_count": null,
      "outputs": []
    },
    {
      "cell_type": "code",
      "source": [
        "# Funcion de costo\n",
        "def calcularCosto(theta, X, y):\n",
        "    m = y.size\n",
        "    h = sigmoid(X.dot(theta.T))\n",
        "    J = (1 / m) * np.sum(-y * np.log(h) - (1 - y) * np.log(1 - h))\n",
        "    return J"
      ],
      "metadata": {
        "id": "782QGFODUFOD"
      },
      "execution_count": null,
      "outputs": []
    },
    {
      "cell_type": "code",
      "source": [
        "# Descenso por gradiente\n",
        "def descensoGradiente(theta, X, y, alpha, num_iters):\n",
        "    m = y.shape[0]\n",
        "    theta = theta.copy()\n",
        "    J_history = []\n",
        "\n",
        "    for i in range(num_iters):\n",
        "        h = sigmoid(X.dot(theta.T))\n",
        "        theta = theta - (alpha / m) * (X.T.dot(h - y)).T\n",
        "        J_history.append(calcularCosto(theta, X, y))\n",
        "\n",
        "    return theta, J_history"
      ],
      "metadata": {
        "id": "lT7bi7huUH46"
      },
      "execution_count": null,
      "outputs": []
    },
    {
      "cell_type": "code",
      "source": [
        "# Parámetros\n",
        "alpha = 0.01\n",
        "num_iters = 5000\n",
        " # inicializa con el tamaño correcto\n",
        "\n",
        "# Agregar columna de bias\n",
        "X_with_bias = np.insert(X_normalized, 0, 1, axis=1)\n",
        "\n",
        "theta = np.zeros(X_with_bias.shape[1])\n",
        "\n",
        "# Ejecutar descenso\n",
        "theta, J_history = descensoGradiente(theta, X_with_bias, Y, alpha, num_iters)\n",
        "\n",
        "# Graficar costo\n",
        "pyplot.plot(np.arange(len(J_history)), J_history, lw=2)\n",
        "pyplot.xlabel('Numero de iteraciones')\n",
        "pyplot.ylabel('Costo J')\n",
        "pyplot.show()\n",
        "\n",
        "# Mostrar theta\n",
        "print('theta calculado por el descenso por el gradiente: {:s}'.format(str(theta)))"
      ],
      "metadata": {
        "id": "7l8uv8X2UKol",
        "outputId": "a3fbcd8f-d86b-4784-a9ef-668da70fa23e",
        "colab": {
          "base_uri": "https://localhost:8080/",
          "height": 466
        }
      },
      "execution_count": null,
      "outputs": [
        {
          "output_type": "display_data",
          "data": {
            "text/plain": [
              "<Figure size 640x480 with 1 Axes>"
            ],
            "image/png": "[encoded data removed]"
          },
          "metadata": {}
        },
        {
          "output_type": "stream",
          "name": "stdout",
          "text": [
            "theta calculado por el descenso por el gradiente: [-0.71078947 -0.08323563 -0.45619225  0.74092908 -0.23293697]\n"
          ]
        }
      ]
    },
    {
      "cell_type": "code",
      "source": [
        "# ===============================\n",
        "# PREDICCIÓN PARA NUEVO DATO\n",
        "# ===============================\n",
        "\n",
        "nuevo_pais = \"BOLIVIA\"\n",
        "nuevo_depto = \"La Paz\"\n",
        "nueva_prov = \"Murillo\"\n",
        "inscritos = 4020\n",
        "\n",
        "# Transformar categorías\n",
        "pais_enc = le_pais.transform([nuevo_pais])[0]\n",
        "depto_enc = le_depto.transform([nuevo_depto])[0]\n",
        "prov_enc = le_prov.transform([nueva_prov])[0]\n",
        "\n",
        "# Crear array con el MISMO orden\n",
        "X_nuevo = np.array([pais_enc, depto_enc, prov_enc, inscritos])\n",
        "\n",
        "# Normalizar usando los MISMOS parámetros\n",
        "X_nuevo_normalized = (X_nuevo - X_min) / (X_max - X_min)\n",
        "\n",
        "# Agregar bias\n",
        "X_nuevo_con_bias = np.insert(X_nuevo_normalized, 0, 1)\n",
        "\n",
        "# Predicción\n",
        "prob = sigmoid(np.dot(X_nuevo_con_bias, theta))\n",
        "pred = int(prob >= 0.5)\n",
        "\n",
        "print(f\"Probabilidad de ganar: {prob:.4f}\")\n",
        "print(f\"Predicción final (0=pierde, 1=gana): {pred}\")"
      ],
      "metadata": {
        "id": "qdLYTJF5lYHo",
        "outputId": "771d654a-2d78-47ba-c5aa-6adb3d44f2e4",
        "colab": {
          "base_uri": "https://localhost:8080/"
        }
      },
      "execution_count": null,
      "outputs": [
        {
          "output_type": "stream",
          "name": "stdout",
          "text": [
            "Probabilidad de ganar: 0.0369\n",
            "Predicción final (0=pierde, 1=gana): 0\n"
          ]
        }
      ]
    }
  ]
}